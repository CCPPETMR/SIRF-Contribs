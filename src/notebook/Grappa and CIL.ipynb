{
 "cells": [
  {
   "cell_type": "markdown",
   "metadata": {},
   "source": [
    "# CCPi CIL and SIRF\n",
    "\n",
    "* CIL is an heterogeneous collection of software codes for Computed Tomography\n",
    "* Beam Hardening\n",
    "* Framework for iterative reconstruction algorithm development in Python \n",
    "* Denoising toolkit for proximal splitting algorithms (C/CUDA)\n",
    "* Digital Volume correlation (for strain)\n",
    "* Visualisation (3D Viewer)\n",
    "\n",
    "## Optimisation"
   ]
  },
  {
   "cell_type": "code",
   "execution_count": null,
   "metadata": {},
   "outputs": [],
   "source": [
    "'''\n",
    "GRAPPA reconstruction with an iterative algorithm from CIL: illustrates\n",
    "the use of AcquisitionModel in CIL optimisation \n",
    "\n",
    "Usage:\n",
    "  grappa_and_cil.py [--help | options]\n",
    "\n",
    "Options:\n",
    "  -f <file>, --file=<file>    raw data file\n",
    "                              [default: simulated_MR_2D_cartesian_Grappa2.h5]\n",
    "  -p <path>, --path=<path>    path to data files, defaults to data/examples/MR\n",
    "                              subfolder of SIRF root folder\n",
    "'''\n",
    "\n",
    "## CCP PETMR Synergistic Image Reconstruction Framework (SIRF)\n",
    "## Copyright 2015 - 2019 Rutherford Appleton Laboratory STFC.\n",
    "## Copyright 2015 - 2019 University College London.\n",
    "##\n",
    "## This is software developed for the Collaborative Computational\n",
    "## Project in Positron Emission Tomography and Magnetic Resonance imaging\n",
    "## (http://www.ccppetmr.ac.uk/).\n",
    "##\n",
    "## Licensed under the Apache License, Version 2.0 (the \"License\");\n",
    "##   you may not use this file except in compliance with the License.\n",
    "##   You may obtain a copy of the License at\n",
    "##       http://www.apache.org/licenses/LICENSE-2.0\n",
    "##   Unless required by applicable law or agreed to in writing, software\n",
    "##   distributed under the License is distributed on an \"AS IS\" BASIS,\n",
    "##   WITHOUT WARRANTIES OR CONDITIONS OF ANY KIND, either express or implied.\n",
    "##   See the License for the specific language governing permissions and\n",
    "##   limitations under the License.\n",
    "\n",
    "\n",
    "import sirf\n",
    "from sirf.Utilities import existing_filepath\n",
    "from sirf.Utilities import error\n",
    "from sirf.Utilities import show_3D_array\n",
    "from sirf.Gadgetron import examples_data_path\n",
    "from sirf.Gadgetron import AcquisitionData, ImageData\n",
    "from sirf.Gadgetron import AcquisitionModel\n",
    "from sirf.Gadgetron import AcquisitionDataProcessor\n",
    "from sirf.Gadgetron import CartesianGRAPPAReconstructor\n",
    "from sirf.Gadgetron import CoilSensitivityData\n",
    "\n",
    "\n",
    "from ccpi.optimisation.functions import Norm2Sq\n",
    "from ccpi.optimisation.functions import ZeroFunction\n",
    "from ccpi.optimisation.algorithms import FISTA, CGLS, GradientDescent\n",
    "from ccpi.plugins.regularisers import FGP_TV#, TGV, LLT_ROF, Diff4th\n",
    "from ccpi.framework import DataContainer as cilDataContainer\n",
    "from ccpi.optimisation.operators import LinearOperator\n",
    "\n",
    "import numpy\n",
    "import time\n",
    "%matplotlib notebook\n",
    "import matplotlib.pyplot as plt\n",
    "\n",
    "\n"
   ]
  },
  {
   "cell_type": "code",
   "execution_count": null,
   "metadata": {},
   "outputs": [],
   "source": [
    "class cilPluginToSIRFFactory(object):\n",
    "    '''Factory to create SIRF wrappers for CCPi CIL plugins'''\n",
    "    @staticmethod\n",
    "    def getInstance(thetype, **kwargs):\n",
    "        '''Returns an instance of a CCPi CIL plugin wrapped to work on SIRF DataContainers'''\n",
    "        obj = thetype(**kwargs)\n",
    "        orig_prox = obj.prox\n",
    "        obj.prox = cilPluginToSIRFFactory.prox(orig_prox, \n",
    "                                               obj.__class__.__name__)\n",
    "        return obj\n",
    "    @staticmethod\n",
    "    def prox(method, classname):\n",
    "        def wrapped(x, sigma):\n",
    "            '''Wrapped method'''\n",
    "            print(\"calling \", classname)\n",
    "            if isinstance(x, sirf.Gadgetron.ImageData):\n",
    "                # if the data is MR => complex we operate the regulariser\n",
    "                # only on the real part\n",
    "                X = x.as_array()\n",
    "                out = method(cilDataContainer(X.real), sigma)\n",
    "                X.real[:] = out.as_array()\n",
    "                y = x.copy()\n",
    "                y.fill(X)\n",
    "            else:\n",
    "                out = method(x, sigma)\n",
    "                y = x.copy()\n",
    "                y.fill(out.as_array())\n",
    "            print(\"done\")\n",
    "                \n",
    "            return y\n",
    "        return wrapped\n",
    "    \n"
   ]
  },
  {
   "cell_type": "markdown",
   "metadata": {},
   "source": [
    "## Prepare the Data and AcquisitionModel"
   ]
  },
  {
   "cell_type": "code",
   "execution_count": null,
   "metadata": {},
   "outputs": [],
   "source": [
    "# process command-line options\n",
    "data_file = 'simulated_MR_2D_cartesian_Grappa2.h5'\n",
    "data_path = None\n",
    "\n",
    "if data_path is None:\n",
    "    data_path = examples_data_path('MR')\n",
    "    \n",
    "\n",
    "# locate the input data file\n",
    "input_file = existing_filepath(data_path, data_file)\n",
    "print (input_file)\n",
    "\n",
    "\n",
    "# acquisition data will be read from an HDF file input_data\n",
    "acq_data = AcquisitionData(input_file)\n",
    "\n",
    "# pre-process acquisition data\n",
    "print('---\\n pre-processing acquisition data...')\n",
    "# the following function runs a GadgetChain data processor\n",
    "# preprocessed_data = preprocess_acquisition_data(acq_data)\n",
    "gadget_chain = ['NoiseAdjustGadget', \\\n",
    "                'AsymmetricEchoAdjustROGadget', \\\n",
    "                'RemoveROOversamplingGadget']\n",
    "ap = AcquisitionDataProcessor( gadget_chain )\n",
    "ap.set_input( acq_data )\n",
    "ap.process()\n",
    "preprocessed_data = ap.get_output()\n",
    "\n",
    "\n",
    "# perform reconstruction\n",
    "recon = CartesianGRAPPAReconstructor()\n",
    "recon.set_input( preprocessed_data )\n",
    "recon.compute_gfactors( False )\n",
    "print('---\\n reconstructing...')\n",
    "recon.process()\n",
    "# for undersampled acquisition data GRAPPA computes Gfactor images\n",
    "# in addition to reconstructed ones\n",
    "image_data = recon.get_output()\n",
    "\n",
    "image_array = image_data.as_array()\n",
    "title = 'Reconstructed image data (magnitude)'\n",
    "show_3D_array(abs(image_array), suptitle = title, label = 'slice', \\\n",
    "              xlabel = 'samples', ylabel = 'readouts', show = False)\n",
    "\n",
    "# compute coil sensitivity maps\n",
    "csms = CoilSensitivityData()\n",
    "print('---\\n sorting acquisition data...')\n",
    "preprocessed_data.sort()\n",
    "print('---\\n computing sensitivity maps...')\n",
    "csms.calculate( preprocessed_data )"
   ]
  },
  {
   "cell_type": "code",
   "execution_count": null,
   "metadata": {},
   "outputs": [],
   "source": [
    "# create acquisition model based on the acquisition parameters\n",
    "# stored in preprocessed_data and image parameters stored in\n",
    "# image_data\n",
    "acq_model = AcquisitionModel( preprocessed_data, image_data )\n",
    "acq_model.set_coil_sensitivity_maps( csms )\n",
    "\n",
    "# use the acquisition model (forward projection) to simulate acquisition data\n",
    "simulated_data = acq_model.forward( image_data )"
   ]
  },
  {
   "cell_type": "markdown",
   "metadata": {},
   "source": [
    "# CIL/SIRF integration"
   ]
  },
  {
   "cell_type": "markdown",
   "metadata": {},
   "source": [
    "Create the objective function as Norm2square\n",
    "$$\n",
    "c || A x - b ||^2\n",
    "$$\n",
    "where $c$ is a constant, $A$ is the linear operator and $b$ are the data."
   ]
  },
  {
   "cell_type": "code",
   "execution_count": null,
   "metadata": {},
   "outputs": [],
   "source": [
    "# create a Norm2square objective function\n",
    "# c || Ax - b ||^2\n",
    "norm2sq = Norm2Sq( A = acq_model , b = preprocessed_data , c = 1)\n",
    "# create a random initialisation image by shuffling the real\n",
    "# image data. \n",
    "x_init = image_data.copy()\n",
    "x = x_init.as_array().flatten()\n",
    "numpy.random.shuffle(x)\n",
    "x = numpy.reshape(x, x_init.as_array().shape)\n",
    "x_init.fill(x)\n",
    "del x\n",
    "\n",
    "show_3D_array(x_init.as_array().real)"
   ]
  },
  {
   "cell_type": "markdown",
   "metadata": {},
   "source": [
    "The linear operator $A$, the AcquisitionModel, should satisfy the dot test: \n",
    "\n",
    "$Ax_0\\times y_0 = y_0 \\times A^Tx_0$"
   ]
  },
  {
   "cell_type": "code",
   "execution_count": null,
   "metadata": {},
   "outputs": [],
   "source": [
    "assert LinearOperator.dot_test(acq_model)"
   ]
  },
  {
   "cell_type": "code",
   "execution_count": null,
   "metadata": {
    "scrolled": false
   },
   "outputs": [],
   "source": [
    "lipschitz = LinearOperator.PowerMethod(acq_model, 10, x_init)[0]\n",
    "\n",
    "norm2sq.L = lipschitz  \n",
    "print (\"Lipschitz \" , norm2sq.L)"
   ]
  },
  {
   "cell_type": "code",
   "execution_count": null,
   "metadata": {},
   "outputs": [],
   "source": [
    "from __future__ import print_function\n",
    "from ipywidgets import interact, interactive, fixed, interact_manual\n",
    "import ipywidgets as widgets\n",
    "\n",
    "interactive_plot = False\n",
    "\n",
    "# create a Gradient Descent algorithm which minimises norm2sq\n",
    "gd = GradientDescent(x_init=x_init, \n",
    "           objective_function=norm2sq, rate=lipschitz/3.)"
   ]
  },
  {
   "cell_type": "code",
   "execution_count": null,
   "metadata": {},
   "outputs": [],
   "source": [
    "gd.max_iteration = 50\n",
    "pixval = []\n",
    "gadgval = image_data.as_array()[0][46][160]\n",
    "\n",
    "\n",
    "gd.update_objective_interval = 1\n",
    "gd.run(50,verbose=True)\n",
    "fig = plt.figure()\n",
    "ax = fig.add_subplot(111)\n",
    "ax.semilogy([val/gd.loss[0] for val in gd.loss])\n",
    "im = fig.add_subplot(122)\n",
    "im.imshow(abs(gd.get_output().as_array()[0]))\n",
    "fig.show()\n",
    "    "
   ]
  },
  {
   "cell_type": "code",
   "execution_count": null,
   "metadata": {},
   "outputs": [],
   "source": [
    "#show_3D_array(gd.get_output().as_array().real, suptitle='Gradient Descent (magnitude)')\n",
    "\n",
    "#%%\n",
    "# USE FISTA with Regularisation   \n",
    "no_regulariser = ZeroFunction()\n",
    "# create a regulariser with the Factory\n",
    "regulariser = cilPluginToSIRFFactory.getInstance(FGP_TV, \n",
    "                                       lambdaReg=.1,\n",
    "                                       iterationsTV=300,\n",
    "                                       tolerance=1e-5,\n",
    "                                       methodTV=0,\n",
    "                                       nonnegativity=0,\n",
    "                                       printing=0,\n",
    "                                       device='cpu')\n",
    "options = {'tol': 1e-4, 'iter': 10, 'memopt':False}\n",
    "\n",
    "norm2sq.L = lipschitz*3.\n",
    "# create a FISTA algorithm instance\n",
    "fista = FISTA(x_init=x_init, f=norm2sq, g=regulariser)"
   ]
  },
  {
   "cell_type": "code",
   "execution_count": null,
   "metadata": {},
   "outputs": [],
   "source": [
    "fista.max_iteration = 50\n",
    "fpixval = []\n",
    "#%%\n",
    "# run FISTA\n",
    "\n",
    "\n",
    "\n",
    "fista.update_objective_interval = 1\n",
    "fista.run(20, verbose=True)\n",
    "fig = plt.figure()\n",
    "ax = fig.add_subplot(111)\n",
    "ax.semilogy([val/fista.loss[0] for val in fista.loss])\n",
    "im = fig.add_subplot(122)\n",
    "im.imshow(abs(fista.get_output().as_array()[0]))\n",
    "fig.show()\n",
    "    "
   ]
  },
  {
   "cell_type": "code",
   "execution_count": null,
   "metadata": {},
   "outputs": [],
   "source": [
    "fista_noreg = FISTA(x_init=x_init, f=norm2sq, g=no_regulariser)\n",
    "fista_noreg.max_iteration = 20\n",
    "fpixval = []\n",
    "#%%\n",
    "# run FISTA"
   ]
  },
  {
   "cell_type": "code",
   "execution_count": null,
   "metadata": {},
   "outputs": [],
   "source": [
    "\n",
    "fista_noreg.run(20, verbose=True)\n",
    "fig = plt.figure()\n",
    "ax = fig.add_subplot(111)\n",
    "ax.semilogy([val/fista_noreg.loss[0] for val in fista_noreg.loss])\n",
    "im = fig.add_subplot(122)\n",
    "im.imshow(abs(fista_noreg.get_output().as_array()[0]))\n",
    "fig.show()\n",
    "    "
   ]
  },
  {
   "cell_type": "code",
   "execution_count": null,
   "metadata": {},
   "outputs": [],
   "source": [
    "# plot convergence\n",
    "print (gd._iteration)\n",
    "fig = plt.figure()\n",
    "ax = plt.semilogy([gd.loss[i]/max(gd.loss) for i in range(20)], label='Gradient Descent')\n",
    "#ax = plt.plot([el/max(fista_noreg.loss) for el in fista_noreg.loss], label='FISTA')\n",
    "ax = plt.semilogy([el/max(fista.loss) for el in fista.loss], label='FISTA + FGP_TV')\n",
    "plt.legend()\n",
    "plt.show()"
   ]
  },
  {
   "cell_type": "code",
   "execution_count": null,
   "metadata": {},
   "outputs": [],
   "source": [
    "#%%\n",
    "# plot the results\n",
    "fig = plt.figure()\n",
    "#ax1 = plt.subplot(1,4,1)\n",
    "#plt.imshow(abs(image_data.as_array()[0]), cmap='gray')\n",
    "#plt.clim(0, 5)\n",
    "#ax1.set_title('Initial Data')\n",
    "#ax2 = plt.subplot(1,4,2)\n",
    "ax2 = plt.subplot(1,2,1)\n",
    "plt.imshow(abs(gd.get_output().as_array()[0]), cmap='gray')\n",
    "plt.clim(0, 1.)\n",
    "ax2.set_title('Gradient Descent')\n",
    "ax2.set_yticklabels([])\n",
    "ax2.set_xticklabels([])\n",
    "#ax2 = plt.subplot(1,4,3)\n",
    "#ax2 = plt.subplot(1,2,1)\n",
    "#plt.imshow(abs(fista_noreg.get_output().as_array()[0]), cmap='gray')\n",
    "#plt.clim(0, 5)\n",
    "#ax2.set_title('FISTA no reg')\n",
    "#ax2 = plt.subplot(1,4,4)\n",
    "ax2 = plt.subplot(1,2,2)\n",
    "ax2.set_yticklabels([])\n",
    "ax2.set_xticklabels([])\n",
    "plt.imshow(abs(fista.get_output().as_array()[0]), cmap='gray')\n",
    "plt.clim(0, 1.)\n",
    "ax2.set_title('FISTA + FGP_TV')\n",
    "plt.show()\n",
    "#%%\n"
   ]
  },
  {
   "cell_type": "code",
   "execution_count": null,
   "metadata": {},
   "outputs": [],
   "source": [
    "print (gadgval)\n",
    "\n",
    "fista_noreg.max_iteration = 100\n",
    "fista_noreg.update_objective_interval = 5\n",
    "fista_noreg.run(10)\n",
    "\n",
    "cgls = CGLS(x_init=x_init, operator=acq_model, data=preprocessed_data)\n"
   ]
  },
  {
   "cell_type": "code",
   "execution_count": null,
   "metadata": {},
   "outputs": [],
   "source": [
    "cgls.max_iteration=50\n",
    "cgls.run(12)\n",
    "fig = plt.figure()\n",
    "ax = fig.add_subplot(111)\n",
    "ax.semilogy([val/cgls.loss[0] for val in cgls.loss])\n",
    "im = fig.add_subplot(122)\n",
    "im.imshow(abs(cgls.get_output().as_array()[0]))\n",
    "fig.show()"
   ]
  }
 ],
 "metadata": {
  "kernelspec": {
   "display_name": "Python 2",
   "language": "python",
   "name": "python2"
  },
  "language_info": {
   "codemirror_mode": {
    "name": "ipython",
    "version": 2
   },
   "file_extension": ".py",
   "mimetype": "text/x-python",
   "name": "python",
   "nbconvert_exporter": "python",
   "pygments_lexer": "ipython2",
   "version": "2.7.15+"
  }
 },
 "nbformat": 4,
 "nbformat_minor": 2
}
